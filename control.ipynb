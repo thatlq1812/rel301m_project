{
 "cells": [
  {
   "cell_type": "markdown",
   "metadata": {},
   "source": [
    "# Chess RL Control Book\n",
    "\n",
    "This notebook orchestrates data preparation, supervised pre-training, reinforcement learning fine-tuning, and evaluation for the chess reinforcement learning project. Enable or disable specific stages via the configuration toggles below."
   ]
  },
  {
   "cell_type": "markdown",
   "metadata": {},
   "source": [
    "## Environment Setup"
   ]
  },
  {
   "cell_type": "code",
   "execution_count": 1,
   "metadata": {},
   "outputs": [
    {
     "data": {
      "text/plain": [
       "WindowsPath('d:/UNI/REL301m/project')"
      ]
     },
     "execution_count": 1,
     "metadata": {},
     "output_type": "execute_result"
    }
   ],
   "source": [
    "from pathlib import Path\n",
    "import json\n",
    "import torch\n",
    "\n",
    "try:\n",
    "    import pandas as pd\n",
    "    HAS_PANDAS = True\n",
    "except ImportError:\n",
    "    HAS_PANDAS = False\n",
    "    print(\"pandas not available; tabular outputs will be simplified.\")\n",
    "\n",
    "try:\n",
    "    import matplotlib.pyplot as plt\n",
    "    HAS_MPL = True\n",
    "except ImportError:\n",
    "    HAS_MPL = False\n",
    "    print(\"matplotlib not available; plots will be skipped.\")\n",
    "\n",
    "PROJECT_ROOT = Path.cwd()\n",
    "DATA_INPUT = PROJECT_ROOT / \"data\" / \"input\"\n",
    "WORKDIR = PROJECT_ROOT / \"data\" / \"working\"\n",
    "MODELS_DIR = PROJECT_ROOT / \"models\"\n",
    "\n",
    "DATA_INPUT.mkdir(parents=True, exist_ok=True)\n",
    "WORKDIR.mkdir(parents=True, exist_ok=True)\n",
    "MODELS_DIR.mkdir(parents=True, exist_ok=True)\n",
    "\n",
    "if HAS_MPL:\n",
    "    plt.style.use(\"ggplot\")\n",
    "PROJECT_ROOT"
   ]
  },
  {
   "cell_type": "markdown",
   "metadata": {},
   "source": [
    "## Pipeline Configuration"
   ]
  },
  {
   "cell_type": "code",
   "execution_count": 2,
   "metadata": {},
   "outputs": [
    {
     "data": {
      "text/plain": [
       "{'dataset': 'ironicninja/raw-chess-games-pgn',\n",
       " 'raw_pgn': 'd:\\\\UNI\\\\REL301m\\\\project\\\\data\\\\input\\\\lichess_db_standard_rated_2014-08.pgn',\n",
       " 'workdir': 'd:\\\\UNI\\\\REL301m\\\\project\\\\data\\\\working',\n",
       " 'supervised_ckpt': 'd:\\\\UNI\\\\REL301m\\\\project\\\\models\\\\policy_model.pt',\n",
       " 'rl_output_dir': 'd:\\\\UNI\\\\REL301m\\\\project\\\\models\\\\rl',\n",
       " 'limit': 200,\n",
       " 'timestamp': '2025-10-15T11:21:08.290459'}"
      ]
     },
     "execution_count": 2,
     "metadata": {},
     "output_type": "execute_result"
    }
   ],
   "source": [
    "from datetime import datetime\n",
    "\n",
    "DATASET_SLUG = \"ironicninja/raw-chess-games-pgn\"\n",
    "RAW_PGN = DATA_INPUT / \"lichess_db_standard_rated_2014-08.pgn\"\n",
    "VOCAB_PATH = WORKDIR / \"move_vocab_4672.json\"\n",
    "SUPERVISED_CKPT = MODELS_DIR / \"policy_model.pt\"\n",
    "RL_OUTPUT_DIR = MODELS_DIR / \"rl\"\n",
    "\n",
    "PIPELINE_LIMIT = 200  # number of games to process; set to None for full dataset\n",
    "\n",
    "RUN_DOWNLOAD = False\n",
    "RUN_PROCESS = True\n",
    "RUN_CLEAN_SPLIT = True\n",
    "RUN_VOCAB = True\n",
    "RUN_PRETRAIN = True\n",
    "RUN_RL = True\n",
    "\n",
    "config_snapshot = {\n",
    "    \"dataset\": DATASET_SLUG,\n",
    "    \"raw_pgn\": str(RAW_PGN),\n",
    "    \"workdir\": str(WORKDIR),\n",
    "    \"supervised_ckpt\": str(SUPERVISED_CKPT),\n",
    "    \"rl_output_dir\": str(RL_OUTPUT_DIR),\n",
    "    \"limit\": PIPELINE_LIMIT,\n",
    "    \"timestamp\": datetime.utcnow().isoformat()\n",
    "}\n",
    "config_snapshot"
   ]
  },
  {
   "cell_type": "markdown",
   "metadata": {},
   "source": [
    "## Execute Selected Stages"
   ]
  },
  {
   "cell_type": "code",
   "execution_count": 3,
   "metadata": {},
   "outputs": [
    {
     "name": "stderr",
     "output_type": "stream",
     "text": [
      "c:\\Users\\fxlqt\\.conda\\envs\\rel\\lib\\site-packages\\tqdm\\auto.py:21: TqdmWarning: IProgress not found. Please update jupyter and ipywidgets. See https://ipywidgets.readthedocs.io/en/stable/user_install.html\n",
      "  from .autonotebook import tqdm as notebook_tqdm\n",
      "processing games: 200game [00:01, 152.90game/s]\n"
     ]
    },
    {
     "name": "stdout",
     "output_type": "stream",
     "text": [
      "[data_processing] processed 200 games -> 13357 positions written to d:\\UNI\\REL301m\\project\\data\\working\\move_dataset.jsonl\n",
      "[clean_split] wrote cleaned dataset to d:\\UNI\\REL301m\\project\\data\\working\\move_dataset_clean.jsonl (kept=12799, removed=558)\n",
      "[clean_split] train.jsonl: 10239 samples -> d:\\UNI\\REL301m\\project\\data\\working\\train.jsonl\n",
      "[clean_split] val.jsonl: 1279 samples -> d:\\UNI\\REL301m\\project\\data\\working\\val.jsonl\n",
      "[clean_split] test.jsonl: 1281 samples -> d:\\UNI\\REL301m\\project\\data\\working\\test.jsonl\n",
      "[vocabulary] generated 4672 moves\n",
      "Vocabulary saved to d:\\UNI\\REL301m\\project\\data\\working\\move_vocab_4672.json\n"
     ]
    }
   ],
   "source": [
    "from src.download_data import download_chess_data\n",
    "from src.data_processing import extract_moves_from_pgn\n",
    "from src.clean_split_data import clean_dataset, split_jsonl_dataset\n",
    "from src.vocabulary import build_alphazero_4672\n",
    "from src.train import run_supervised_training\n",
    "from src.rl_training import run_rl_training, SelfPlayConfig, OptimizationConfig\n",
    "\n",
    "rl_log_cache = None\n",
    "supervised_metrics = None\n",
    "\n",
    "if RUN_DOWNLOAD:\n",
    "    download_chess_data(dataset_name=DATASET_SLUG, download_path=DATA_INPUT)\n",
    "\n",
    "if RUN_PROCESS:\n",
    "    extract_moves_from_pgn(\n",
    "        path_in=RAW_PGN,\n",
    "        path_out=WORKDIR / \"move_dataset.jsonl\",\n",
    "        limit=PIPELINE_LIMIT,\n",
    "    )\n",
    "\n",
    "if RUN_CLEAN_SPLIT:\n",
    "    clean_path = WORKDIR / \"move_dataset_clean.jsonl\"\n",
    "    clean_dataset(WORKDIR / \"move_dataset.jsonl\", clean_path)\n",
    "    split_jsonl_dataset(clean_path, WORKDIR)\n",
    "\n",
    "if RUN_VOCAB:\n",
    "    move2id, _ = build_alphazero_4672()\n",
    "    with VOCAB_PATH.open(\"w\", encoding=\"utf-8\") as f:\n",
    "        json.dump(move2id, f)\n",
    "    print(f\"Vocabulary saved to {VOCAB_PATH}\")\n",
    "\n"
   ]
  },
  {
   "cell_type": "code",
   "execution_count": null,
   "id": "1422f634",
   "metadata": {},
   "outputs": [
    {
     "name": "stderr",
     "output_type": "stream",
     "text": [
      "                                                      \r"
     ]
    },
    {
     "name": "stdout",
     "output_type": "stream",
     "text": [
      "[Epoch 001] train_loss=3.1810 | val_loss=3.0058\n"
     ]
    },
    {
     "name": "stderr",
     "output_type": "stream",
     "text": [
      "                                                      \r"
     ]
    },
    {
     "name": "stdout",
     "output_type": "stream",
     "text": [
      "[Epoch 002] train_loss=2.9419 | val_loss=3.0060\n"
     ]
    },
    {
     "name": "stderr",
     "output_type": "stream",
     "text": [
      "                                                      \r"
     ]
    },
    {
     "name": "stdout",
     "output_type": "stream",
     "text": [
      "[Epoch 003] train_loss=2.8516 | val_loss=3.0478\n",
      "Validation metrics after training: {'loss': 3.047778855831573, 'perplexity': 21.068496245949657, 'top1': 0.15715402658326819, 'top3': 0.33541829554339325}\n",
      "Supervised metrics: {'loss': 3.047778855831573, 'perplexity': 21.068496245949657, 'top1': 0.15715402658326819, 'top3': 0.33541829554339325}\n"
     ]
    }
   ],
   "source": [
    "if RUN_PRETRAIN:\n",
    "    supervised_metrics = run_supervised_training(\n",
    "        workdir=WORKDIR,\n",
    "        vocab_path=VOCAB_PATH,\n",
    "        checkpoint_path=SUPERVISED_CKPT,\n",
    "        epochs=3,\n",
    "        batch_size=256,s\n",
    "        lr=1e-3,\n",
    "        num_workers=0,\n",
    "        resume=None,\n",
    "    )\n",
    "    print(\"Supervised metrics:\", supervised_metrics)"
   ]
  },
  {
   "cell_type": "code",
   "execution_count": 5,
   "id": "44177056",
   "metadata": {},
   "outputs": [
    {
     "name": "stderr",
     "output_type": "stream",
     "text": [
      "                                                         \r"
     ]
    },
    {
     "name": "stdout",
     "output_type": "stream",
     "text": [
      "Loaded 3 tensors from supervised checkpoint.\n",
      "Skipped 19 tensors due to shape mismatch: first few -> ['backbone.trunk.0.weight', 'backbone.trunk.1.weight', 'backbone.trunk.1.bias', 'backbone.trunk.1.running_mean', 'backbone.trunk.1.running_var']\n",
      "Loaded supervised weights from d:\\UNI\\REL301m\\project\\models\\policy_model.pt\n",
      "[Iter 001] loss=nan policy=-0.03165 value=0.00152 entropy=nan avg_return=0.000 win_rate=0.00% draw_rate=100.00% avg_length=140.0\n",
      "[Iter 002] loss=nan policy=0.06612 value=0.00152 entropy=nan avg_return=0.000 win_rate=0.00% draw_rate=100.00% avg_length=140.0\n"
     ]
    }
   ],
   "source": [
    "if RUN_RL:\n",
    "    rl_self_play = SelfPlayConfig(\n",
    "        games_per_iteration=8,\n",
    "        max_moves=140,\n",
    "        temperature=1.0,\n",
    "        random_move_prob=0.05,\n",
    "        gamma=0.99,\n",
    "    )\n",
    "    rl_optim = OptimizationConfig(\n",
    "        num_iterations=5,\n",
    "        policy_epochs=2,\n",
    "        batch_size=128,\n",
    "        lr=5e-4,\n",
    "        entropy_coef=0.01,\n",
    "        value_coef=0.5,\n",
    "        save_interval=5,\n",
    "    )\n",
    "    import io\n",
    "    import contextlib\n",
    "\n",
    "    buffer = io.StringIO()\n",
    "    with contextlib.redirect_stdout(buffer):\n",
    "        run_rl_training(\n",
    "            vocab_path=VOCAB_PATH,\n",
    "            supervised_checkpoint=SUPERVISED_CKPT,\n",
    "            output_dir=RL_OUTPUT_DIR,\n",
    "            resume=None,\n",
    "            self_play_cfg=rl_self_play,\n",
    "            optim_cfg=rl_optim,\n",
    "        )\n",
    "    rl_log_cache = buffer.getvalue()\n",
    "    preview = \"\\n\".join(rl_log_cache.splitlines()[:5])\n",
    "    if preview:\n",
    "        print(preview)\n",
    "    else:\n",
    "        print(\"RL training completed with no captured log output.\")"
   ]
  },
  {
   "cell_type": "markdown",
   "metadata": {},
   "source": [
    "## RL Training Log Parsing"
   ]
  },
  {
   "cell_type": "code",
   "execution_count": 6,
   "metadata": {},
   "outputs": [
    {
     "data": {
      "text/html": [
       "<div>\n",
       "<style scoped>\n",
       "    .dataframe tbody tr th:only-of-type {\n",
       "        vertical-align: middle;\n",
       "    }\n",
       "\n",
       "    .dataframe tbody tr th {\n",
       "        vertical-align: top;\n",
       "    }\n",
       "\n",
       "    .dataframe thead th {\n",
       "        text-align: right;\n",
       "    }\n",
       "</style>\n",
       "<table border=\"1\" class=\"dataframe\">\n",
       "  <thead>\n",
       "    <tr style=\"text-align: right;\">\n",
       "      <th></th>\n",
       "      <th>iteration</th>\n",
       "      <th>loss</th>\n",
       "      <th>policy_loss</th>\n",
       "      <th>value_loss</th>\n",
       "      <th>entropy</th>\n",
       "      <th>avg_return</th>\n",
       "      <th>win_rate</th>\n",
       "      <th>draw_rate</th>\n",
       "      <th>avg_length</th>\n",
       "    </tr>\n",
       "  </thead>\n",
       "  <tbody>\n",
       "    <tr>\n",
       "      <th>0</th>\n",
       "      <td>1</td>\n",
       "      <td>NaN</td>\n",
       "      <td>-0.03165</td>\n",
       "      <td>0.00152</td>\n",
       "      <td>NaN</td>\n",
       "      <td>0.0</td>\n",
       "      <td>0.0</td>\n",
       "      <td>1.0</td>\n",
       "      <td>140.0</td>\n",
       "    </tr>\n",
       "    <tr>\n",
       "      <th>1</th>\n",
       "      <td>2</td>\n",
       "      <td>NaN</td>\n",
       "      <td>0.06612</td>\n",
       "      <td>0.00152</td>\n",
       "      <td>NaN</td>\n",
       "      <td>0.0</td>\n",
       "      <td>0.0</td>\n",
       "      <td>1.0</td>\n",
       "      <td>140.0</td>\n",
       "    </tr>\n",
       "    <tr>\n",
       "      <th>2</th>\n",
       "      <td>3</td>\n",
       "      <td>NaN</td>\n",
       "      <td>-0.00216</td>\n",
       "      <td>0.00152</td>\n",
       "      <td>NaN</td>\n",
       "      <td>0.0</td>\n",
       "      <td>0.0</td>\n",
       "      <td>1.0</td>\n",
       "      <td>140.0</td>\n",
       "    </tr>\n",
       "    <tr>\n",
       "      <th>3</th>\n",
       "      <td>4</td>\n",
       "      <td>NaN</td>\n",
       "      <td>0.02163</td>\n",
       "      <td>0.00151</td>\n",
       "      <td>NaN</td>\n",
       "      <td>0.0</td>\n",
       "      <td>0.0</td>\n",
       "      <td>1.0</td>\n",
       "      <td>140.0</td>\n",
       "    </tr>\n",
       "    <tr>\n",
       "      <th>4</th>\n",
       "      <td>5</td>\n",
       "      <td>NaN</td>\n",
       "      <td>0.01836</td>\n",
       "      <td>0.00152</td>\n",
       "      <td>NaN</td>\n",
       "      <td>0.0</td>\n",
       "      <td>0.0</td>\n",
       "      <td>1.0</td>\n",
       "      <td>140.0</td>\n",
       "    </tr>\n",
       "  </tbody>\n",
       "</table>\n",
       "</div>"
      ],
      "text/plain": [
       "   iteration  loss  policy_loss  value_loss  entropy  avg_return  win_rate  \\\n",
       "0          1   NaN     -0.03165     0.00152      NaN         0.0       0.0   \n",
       "1          2   NaN      0.06612     0.00152      NaN         0.0       0.0   \n",
       "2          3   NaN     -0.00216     0.00152      NaN         0.0       0.0   \n",
       "3          4   NaN      0.02163     0.00151      NaN         0.0       0.0   \n",
       "4          5   NaN      0.01836     0.00152      NaN         0.0       0.0   \n",
       "\n",
       "   draw_rate  avg_length  \n",
       "0        1.0       140.0  \n",
       "1        1.0       140.0  \n",
       "2        1.0       140.0  \n",
       "3        1.0       140.0  \n",
       "4        1.0       140.0  "
      ]
     },
     "metadata": {},
     "output_type": "display_data"
    },
    {
     "data": {
      "image/png": "[encoded data removed]",
      "text/plain": [
       "<Figure size 800x400 with 1 Axes>"
      ]
     },
     "metadata": {},
     "output_type": "display_data"
    },
    {
     "data": {
      "image/png": "[encoded data removed]",
      "text/plain": [
       "<Figure size 800x400 with 1 Axes>"
      ]
     },
     "metadata": {},
     "output_type": "display_data"
    }
   ],
   "source": [
    "import re\n",
    "\n",
    "def parse_rl_log(log_text: str):\n",
    "    pattern = re.compile(\n",
    "        r\"\\[Iter\\s+(\\d+)\\].*?loss=(\\S+).*?policy=(\\S+).*?value=(\\S+).*?entropy=(\\S+).*?avg_return=([\\-\\d\\.]+).*?win_rate=(\\d+\\.\\d+)%.*?draw_rate=(\\d+\\.\\d+)%.*?avg_length=(\\d+\\.\\d+)\"\n",
    "    )\n",
    "    rows = []\n",
    "    for match in pattern.finditer(log_text):\n",
    "        rows.append({\n",
    "            \"iteration\": int(match.group(1)),\n",
    "            \"loss\": float(match.group(2)),\n",
    "            \"policy_loss\": float(match.group(3)),\n",
    "            \"value_loss\": float(match.group(4)),\n",
    "            \"entropy\": float(match.group(5)),\n",
    "            \"avg_return\": float(match.group(6)),\n",
    "            \"win_rate\": float(match.group(7)) / 100.0,\n",
    "            \"draw_rate\": float(match.group(8)) / 100.0,\n",
    "            \"avg_length\": float(match.group(9)),\n",
    "        })\n",
    "    return rows\n",
    "\n",
    "if rl_log_cache:\n",
    "    rl_rows = parse_rl_log(rl_log_cache)\n",
    "    if rl_rows:\n",
    "        if HAS_PANDAS:\n",
    "            df_rl = pd.DataFrame(rl_rows)\n",
    "            display(df_rl)\n",
    "            if HAS_MPL:\n",
    "                ax = df_rl.plot(x=\"iteration\", y=[\"loss\", \"policy_loss\", \"value_loss\"], figsize=(8, 4), title=\"RL Loss Curves\")\n",
    "                ax.set_ylabel(\"loss\")\n",
    "                plt.show()\n",
    "                ax = df_rl.plot(x=\"iteration\", y=[\"win_rate\", \"draw_rate\"], figsize=(8, 4), title=\"RL Outcome Rates\")\n",
    "                ax.set_ylabel(\"rate\")\n",
    "                plt.show()\n",
    "        else:\n",
    "            print(\"Parsed RL metrics:\")\n",
    "            for row in rl_rows:\n",
    "                print(f\"Iter {row['iteration']}: loss={row['loss']:.4f}, win_rate={row['win_rate']:.2%}, avg_len={row['avg_length']:.1f}\")\n",
    "            if not HAS_MPL:\n",
    "                print(\"matplotlib not available; skipping plots.\")\n",
    "    else:\n",
    "        print(\"No RL iterations parsed from the log.\")\n",
    "else:\n",
    "    print(\"RL log cache is empty. Enable RUN_RL above to capture logs.\")"
   ]
  },
  {
   "cell_type": "markdown",
   "metadata": {},
   "source": [
    "## Supervised Metrics"
   ]
  },
  {
   "cell_type": "code",
   "execution_count": 7,
   "metadata": {},
   "outputs": [
    {
     "data": {
      "text/html": [
       "<div>\n",
       "<style scoped>\n",
       "    .dataframe tbody tr th:only-of-type {\n",
       "        vertical-align: middle;\n",
       "    }\n",
       "\n",
       "    .dataframe tbody tr th {\n",
       "        vertical-align: top;\n",
       "    }\n",
       "\n",
       "    .dataframe thead th {\n",
       "        text-align: right;\n",
       "    }\n",
       "</style>\n",
       "<table border=\"1\" class=\"dataframe\">\n",
       "  <thead>\n",
       "    <tr style=\"text-align: right;\">\n",
       "      <th></th>\n",
       "      <th>loss</th>\n",
       "      <th>perplexity</th>\n",
       "      <th>top1</th>\n",
       "      <th>top3</th>\n",
       "    </tr>\n",
       "  </thead>\n",
       "  <tbody>\n",
       "    <tr>\n",
       "      <th>0</th>\n",
       "      <td>3.047779</td>\n",
       "      <td>21.068496</td>\n",
       "      <td>0.157154</td>\n",
       "      <td>0.335418</td>\n",
       "    </tr>\n",
       "  </tbody>\n",
       "</table>\n",
       "</div>"
      ],
      "text/plain": [
       "       loss  perplexity      top1      top3\n",
       "0  3.047779   21.068496  0.157154  0.335418"
      ]
     },
     "metadata": {},
     "output_type": "display_data"
    }
   ],
   "source": [
    "if supervised_metrics:\n",
    "    if HAS_PANDAS:\n",
    "        display(pd.DataFrame([supervised_metrics]))\n",
    "    else:\n",
    "        print(\"Supervised metrics:\", supervised_metrics)\n",
    "else:\n",
    "    print(\"No supervised training metrics captured. Enable RUN_PRETRAIN above.\")"
   ]
  },
  {
   "cell_type": "markdown",
   "metadata": {},
   "source": [
    "## Inspect Checkpoints"
   ]
  },
  {
   "cell_type": "code",
   "execution_count": 8,
   "metadata": {},
   "outputs": [
    {
     "name": "stdout",
     "output_type": "stream",
     "text": [
      "Supervised checkpoint available: True\n",
      " - policy_model.pt: 162.07 MB\n",
      "RL checkpoints:\n",
      " - policy_value_final.pt (198.46 MB)\n",
      " - policy_value_iter_005.pt (198.46 MB)\n"
     ]
    }
   ],
   "source": [
    "from pprint import pprint\n",
    "\n",
    "print(\"Supervised checkpoint available:\", SUPERVISED_CKPT.exists())\n",
    "if SUPERVISED_CKPT.exists():\n",
    "    size_mb = SUPERVISED_CKPT.stat().st_size / 1e6\n",
    "    print(f\" - {SUPERVISED_CKPT.name}: {size_mb:.2f} MB\")\n",
    "\n",
    "if RL_OUTPUT_DIR.exists():\n",
    "    rl_files = sorted(RL_OUTPUT_DIR.glob(\"*.pt\"))\n",
    "    print(\"RL checkpoints:\")\n",
    "    if rl_files:\n",
    "        for f in rl_files:\n",
    "            print(f\" - {f.name} ({f.stat().st_size / 1e6:.2f} MB)\")\n",
    "    else:\n",
    "        print(\" - No RL checkpoints found in directory.\")\n",
    "else:\n",
    "    print(\"RL output directory not found.\")"
   ]
  },
  {
   "cell_type": "markdown",
   "metadata": {},
   "source": [
    "## Prediction Playground"
   ]
  },
  {
   "cell_type": "code",
   "execution_count": 9,
   "metadata": {},
   "outputs": [
    {
     "name": "stdout",
     "output_type": "stream",
     "text": [
      "Top moves: ['g1f3', 'd2d4', 'e2e3', 'b1c3', 'd2d3']\n"
     ]
    },
    {
     "name": "stderr",
     "output_type": "stream",
     "text": [
      "d:\\UNI\\REL301m\\project\\src\\predict.py:44: FutureWarning: You are using `torch.load` with `weights_only=False` (the current default value), which uses the default pickle module implicitly. It is possible to construct malicious pickle data which will execute arbitrary code during unpickling (See https://github.com/pytorch/pytorch/blob/main/SECURITY.md#untrusted-models for more details). In a future release, the default value for `weights_only` will be flipped to `True`. This limits the functions that could be executed during unpickling. Arbitrary objects will no longer be allowed to be loaded via this mode unless they are explicitly allowlisted by the user via `torch.serialization.add_safe_globals`. We recommend you start setting `weights_only=True` for any use case where you don't have full control of the loaded file. Please open an issue on GitHub for any issues related to this experimental feature.\n",
      "  return torch.load(path, map_location=device)\n"
     ]
    }
   ],
   "source": [
    "from src.predict import predict_move, load_checkpoint\n",
    "from src.models import PolicyNet\n",
    "\n",
    "sample_fen = \"rnbqkbnr/pppppppp/8/8/8/8/PPPPPPPP/RNBQKBNR w KQkq - 0 1\"\n",
    "TOP_K = 5\n",
    "\n",
    "if SUPERVISED_CKPT.exists():\n",
    "    device = torch.device(\"cuda\" if torch.cuda.is_available() else \"cpu\")\n",
    "    checkpoint = load_checkpoint(SUPERVISED_CKPT, device)\n",
    "    move2id = checkpoint[\"vocab\"]\n",
    "    model = PolicyNet(len(move2id))\n",
    "    model.load_state_dict(checkpoint[\"model_state\"])\n",
    "    model.to(device)\n",
    "    moves = predict_move(sample_fen, model, move2id, device, topk=TOP_K)\n",
    "    print(\"Top moves:\", moves)\n",
    "else:\n",
    "    print(\"Supervised checkpoint not found. Run pretraining first.\")"
   ]
  }
 ],
 "metadata": {
  "kernelspec": {
   "display_name": "rel",
   "language": "python",
   "name": "python3"
  },
  "language_info": {
   "codemirror_mode": {
    "name": "ipython",
    "version": 3
   },
   "file_extension": ".py",
   "mimetype": "text/x-python",
   "name": "python",
   "nbconvert_exporter": "python",
   "pygments_lexer": "ipython3",
   "version": "3.10.18"
  }
 },
 "nbformat": 4,
 "nbformat_minor": 5
}
